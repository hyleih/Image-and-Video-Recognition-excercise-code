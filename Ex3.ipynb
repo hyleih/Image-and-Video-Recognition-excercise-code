{
  "nbformat": 4,
  "nbformat_minor": 0,
  "metadata": {
    "colab": {
      "name": "Ex3.ipynb",
      "provenance": [],
      "collapsed_sections": [],
      "toc_visible": true
    },
    "kernelspec": {
      "name": "python3",
      "display_name": "Python 3"
    },
    "accelerator": "GPU",
    "widgets": {
      "application/vnd.jupyter.widget-state+json": {
        "63f31d813a4e408cbbb306082f5c6107": {
          "model_module": "@jupyter-widgets/controls",
          "model_name": "HBoxModel",
          "state": {
            "_view_name": "HBoxView",
            "_dom_classes": [],
            "_model_name": "HBoxModel",
            "_view_module": "@jupyter-widgets/controls",
            "_model_module_version": "1.5.0",
            "_view_count": null,
            "_view_module_version": "1.5.0",
            "box_style": "",
            "layout": "IPY_MODEL_734716fd13384f7cba7e7bc95c7eff07",
            "_model_module": "@jupyter-widgets/controls",
            "children": [
              "IPY_MODEL_0d642c99fdae4b1ab32c9c179df61647",
              "IPY_MODEL_cca86823b295475686270bce4252ceb3"
            ]
          }
        },
        "734716fd13384f7cba7e7bc95c7eff07": {
          "model_module": "@jupyter-widgets/base",
          "model_name": "LayoutModel",
          "state": {
            "_view_name": "LayoutView",
            "grid_template_rows": null,
            "right": null,
            "justify_content": null,
            "_view_module": "@jupyter-widgets/base",
            "overflow": null,
            "_model_module_version": "1.2.0",
            "_view_count": null,
            "flex_flow": null,
            "width": null,
            "min_width": null,
            "border": null,
            "align_items": null,
            "bottom": null,
            "_model_module": "@jupyter-widgets/base",
            "top": null,
            "grid_column": null,
            "overflow_y": null,
            "overflow_x": null,
            "grid_auto_flow": null,
            "grid_area": null,
            "grid_template_columns": null,
            "flex": null,
            "_model_name": "LayoutModel",
            "justify_items": null,
            "grid_row": null,
            "max_height": null,
            "align_content": null,
            "visibility": null,
            "align_self": null,
            "height": null,
            "min_height": null,
            "padding": null,
            "grid_auto_rows": null,
            "grid_gap": null,
            "max_width": null,
            "order": null,
            "_view_module_version": "1.2.0",
            "grid_template_areas": null,
            "object_position": null,
            "object_fit": null,
            "grid_auto_columns": null,
            "margin": null,
            "display": null,
            "left": null
          }
        },
        "0d642c99fdae4b1ab32c9c179df61647": {
          "model_module": "@jupyter-widgets/controls",
          "model_name": "FloatProgressModel",
          "state": {
            "_view_name": "ProgressView",
            "style": "IPY_MODEL_13ac76c89e394dc58a5a46a6ad09671c",
            "_dom_classes": [],
            "description": "",
            "_model_name": "FloatProgressModel",
            "bar_style": "success",
            "max": 1,
            "_view_module": "@jupyter-widgets/controls",
            "_model_module_version": "1.5.0",
            "value": 1,
            "_view_count": null,
            "_view_module_version": "1.5.0",
            "orientation": "horizontal",
            "min": 0,
            "description_tooltip": null,
            "_model_module": "@jupyter-widgets/controls",
            "layout": "IPY_MODEL_a34fd1ad24dc47b6832e944f412ab0d8"
          }
        },
        "cca86823b295475686270bce4252ceb3": {
          "model_module": "@jupyter-widgets/controls",
          "model_name": "HTMLModel",
          "state": {
            "_view_name": "HTMLView",
            "style": "IPY_MODEL_e1d4c62e53a1423d8eb1909631baf69c",
            "_dom_classes": [],
            "description": "",
            "_model_name": "HTMLModel",
            "placeholder": "​",
            "_view_module": "@jupyter-widgets/controls",
            "_model_module_version": "1.5.0",
            "value": " 170500096/? [00:07&lt;00:00, 21385294.61it/s]",
            "_view_count": null,
            "_view_module_version": "1.5.0",
            "description_tooltip": null,
            "_model_module": "@jupyter-widgets/controls",
            "layout": "IPY_MODEL_c79314dc5e4f4828a916ded7d8e6bb9b"
          }
        },
        "13ac76c89e394dc58a5a46a6ad09671c": {
          "model_module": "@jupyter-widgets/controls",
          "model_name": "ProgressStyleModel",
          "state": {
            "_view_name": "StyleView",
            "_model_name": "ProgressStyleModel",
            "description_width": "initial",
            "_view_module": "@jupyter-widgets/base",
            "_model_module_version": "1.5.0",
            "_view_count": null,
            "_view_module_version": "1.2.0",
            "bar_color": null,
            "_model_module": "@jupyter-widgets/controls"
          }
        },
        "a34fd1ad24dc47b6832e944f412ab0d8": {
          "model_module": "@jupyter-widgets/base",
          "model_name": "LayoutModel",
          "state": {
            "_view_name": "LayoutView",
            "grid_template_rows": null,
            "right": null,
            "justify_content": null,
            "_view_module": "@jupyter-widgets/base",
            "overflow": null,
            "_model_module_version": "1.2.0",
            "_view_count": null,
            "flex_flow": null,
            "width": null,
            "min_width": null,
            "border": null,
            "align_items": null,
            "bottom": null,
            "_model_module": "@jupyter-widgets/base",
            "top": null,
            "grid_column": null,
            "overflow_y": null,
            "overflow_x": null,
            "grid_auto_flow": null,
            "grid_area": null,
            "grid_template_columns": null,
            "flex": null,
            "_model_name": "LayoutModel",
            "justify_items": null,
            "grid_row": null,
            "max_height": null,
            "align_content": null,
            "visibility": null,
            "align_self": null,
            "height": null,
            "min_height": null,
            "padding": null,
            "grid_auto_rows": null,
            "grid_gap": null,
            "max_width": null,
            "order": null,
            "_view_module_version": "1.2.0",
            "grid_template_areas": null,
            "object_position": null,
            "object_fit": null,
            "grid_auto_columns": null,
            "margin": null,
            "display": null,
            "left": null
          }
        },
        "e1d4c62e53a1423d8eb1909631baf69c": {
          "model_module": "@jupyter-widgets/controls",
          "model_name": "DescriptionStyleModel",
          "state": {
            "_view_name": "StyleView",
            "_model_name": "DescriptionStyleModel",
            "description_width": "",
            "_view_module": "@jupyter-widgets/base",
            "_model_module_version": "1.5.0",
            "_view_count": null,
            "_view_module_version": "1.2.0",
            "_model_module": "@jupyter-widgets/controls"
          }
        },
        "c79314dc5e4f4828a916ded7d8e6bb9b": {
          "model_module": "@jupyter-widgets/base",
          "model_name": "LayoutModel",
          "state": {
            "_view_name": "LayoutView",
            "grid_template_rows": null,
            "right": null,
            "justify_content": null,
            "_view_module": "@jupyter-widgets/base",
            "overflow": null,
            "_model_module_version": "1.2.0",
            "_view_count": null,
            "flex_flow": null,
            "width": null,
            "min_width": null,
            "border": null,
            "align_items": null,
            "bottom": null,
            "_model_module": "@jupyter-widgets/base",
            "top": null,
            "grid_column": null,
            "overflow_y": null,
            "overflow_x": null,
            "grid_auto_flow": null,
            "grid_area": null,
            "grid_template_columns": null,
            "flex": null,
            "_model_name": "LayoutModel",
            "justify_items": null,
            "grid_row": null,
            "max_height": null,
            "align_content": null,
            "visibility": null,
            "align_self": null,
            "height": null,
            "min_height": null,
            "padding": null,
            "grid_auto_rows": null,
            "grid_gap": null,
            "max_width": null,
            "order": null,
            "_view_module_version": "1.2.0",
            "grid_template_areas": null,
            "object_position": null,
            "object_fit": null,
            "grid_auto_columns": null,
            "margin": null,
            "display": null,
            "left": null
          }
        }
      }
    }
  },
  "cells": [
    {
      "cell_type": "code",
      "metadata": {
        "id": "_dXO4kp9xjm9"
      },
      "source": [
        "import numpy as np\n",
        "from sklearn.metrics import accuracy_score"
      ],
      "execution_count": 1,
      "outputs": []
    },
    {
      "cell_type": "markdown",
      "metadata": {
        "id": "jzf3fGv_DbTr"
      },
      "source": [
        "# Ex 3-2"
      ]
    },
    {
      "cell_type": "code",
      "metadata": {
        "id": "qtZiTGLtDdk5"
      },
      "source": [
        "import torch\n",
        "import torch.nn as nn\n",
        "import torch.nn.functional as F\n",
        "import torch.optim as optim\n",
        "from torchvision import datasets, transforms, models\n",
        "\n",
        "device = torch.device(\"cuda\")\n",
        "\n",
        "def train(model, train_loader, test_loader, criterion, optimizer, epoch):\n",
        "  train_loss = []\n",
        "  train_acc = []\n",
        "  test_loss = []\n",
        "  test_acc = []\n",
        "  for n in range(epoch):\n",
        "    model.train()\n",
        "\n",
        "    train_loss_step = []\n",
        "    train_acc_step = []\n",
        "    for i, (x, y) in enumerate(train_loader):\n",
        "      optimizer.zero_grad() \n",
        "      x = x.to(device)\n",
        "      y = y.to(device)\n",
        "\n",
        "      pred = model(x)\n",
        "      loss = criterion(pred, y)\n",
        "      loss.backward()\n",
        "      optimizer.step()\n",
        "\n",
        "      train_loss_step.append(float(loss))\n",
        "      acc = accuracy_score(y.to('cpu').detach().numpy().copy(), \n",
        "                          pred.argmax(dim=1).to('cpu').detach().numpy().copy())\n",
        "      train_acc_step.append(acc)\n",
        "    train_loss.append(np.mean(train_loss_step))\n",
        "    train_acc.append(np.mean(train_acc_step))\n",
        "\n",
        "    with torch.no_grad():\n",
        "      model.eval()\n",
        "      test_loss_step = []\n",
        "      test_acc_step = []\n",
        "      for i ,(x, y) in enumerate(test_loader):\n",
        "        x = x.to(device)\n",
        "        y = y.to(device)\n",
        "\n",
        "        pred = model(x)\n",
        "        loss = criterion(pred, y)\n",
        "\n",
        "        test_loss_step.append(float(loss))\n",
        "        acc = accuracy_score(y.to('cpu').detach().numpy().copy(), \n",
        "                         pred.argmax(dim=1).to('cpu').detach().numpy().copy())\n",
        "        test_acc_step.append(acc)\n",
        "  \n",
        "    test_loss.append(np.mean(test_loss_step))\n",
        "    test_acc.append(np.mean(test_acc_step))\n",
        "    print(\"%i: %f, %f, %f, %f\" % (n, train_acc[-1], test_acc[-1], train_loss[-1], test_loss[-1]))"
      ],
      "execution_count": 2,
      "outputs": []
    },
    {
      "cell_type": "code",
      "metadata": {
        "colab": {
          "base_uri": "https://localhost:8080/",
          "height": 100,
          "referenced_widgets": [
            "63f31d813a4e408cbbb306082f5c6107",
            "734716fd13384f7cba7e7bc95c7eff07",
            "0d642c99fdae4b1ab32c9c179df61647",
            "cca86823b295475686270bce4252ceb3",
            "13ac76c89e394dc58a5a46a6ad09671c",
            "a34fd1ad24dc47b6832e944f412ab0d8",
            "e1d4c62e53a1423d8eb1909631baf69c",
            "c79314dc5e4f4828a916ded7d8e6bb9b"
          ]
        },
        "id": "ycAViS9zDm7t",
        "outputId": "84605557-a0a1-4b20-9332-9e28d3c3fe9d"
      },
      "source": [
        "# transform = transforms.Compose([transforms.ToTensor(), transforms.Normalize((0.5, 0.5, 0.5), (0.5, 0.5, 0.5))])\n",
        "transform=transforms.Compose([transforms.RandomHorizontalFlip(p=0.5), \n",
        "                                transforms.ToTensor(),transforms.Normalize([0.5, 0.5, 0.5], [0.5, 0.5, 0.5]), \n",
        "                                transforms.RandomErasing(p=0.5, scale=(0.02, 0.33), ratio=(0.3, 3.3), value=0, inplace=False)])\n",
        "trainset = datasets.CIFAR10(root='./data', train=True, download=True, transform=transform)\n",
        "train_loader = torch.utils.data.DataLoader(trainset, batch_size=1024, shuffle=True)\n",
        "testset = datasets.CIFAR10(root='./data', train=False, download=True, transform=transform)\n",
        "test_loader = torch.utils.data.DataLoader(testset, batch_size=1024, shuffle=False)\n",
        "classes = ('plane', 'car', 'bird', 'cat', 'deer', 'dog', 'frog', 'horse', 'ship', 'truck')"
      ],
      "execution_count": 3,
      "outputs": [
        {
          "output_type": "stream",
          "text": [
            "Downloading https://www.cs.toronto.edu/~kriz/cifar-10-python.tar.gz to ./data/cifar-10-python.tar.gz\n"
          ],
          "name": "stdout"
        },
        {
          "output_type": "display_data",
          "data": {
            "application/vnd.jupyter.widget-view+json": {
              "model_id": "63f31d813a4e408cbbb306082f5c6107",
              "version_minor": 0,
              "version_major": 2
            },
            "text/plain": [
              "HBox(children=(FloatProgress(value=1.0, bar_style='info', max=1.0), HTML(value='')))"
            ]
          },
          "metadata": {
            "tags": []
          }
        },
        {
          "output_type": "stream",
          "text": [
            "Extracting ./data/cifar-10-python.tar.gz to ./data\n",
            "Files already downloaded and verified\n"
          ],
          "name": "stdout"
        }
      ]
    },
    {
      "cell_type": "code",
      "metadata": {
        "colab": {
          "base_uri": "https://localhost:8080/"
        },
        "id": "e5Tkl29fciid",
        "outputId": "ad67aa5b-386a-4137-f93d-389777bff3f9"
      },
      "source": [
        "model = models.resnet50(pretrained=False)\n",
        "model.fc = nn.Linear(model.fc.in_features, 10)\n",
        "model = model.to(device)\n",
        "\n",
        "criterion = nn.CrossEntropyLoss()\n",
        "optimizer = optim.SGD(model.parameters(),lr=0.01,momentum=0.9,weight_decay=0.0005)\n",
        "\n",
        "train(model, train_loader, test_loader, criterion, optimizer, epoch=50)"
      ],
      "execution_count": null,
      "outputs": [
        {
          "output_type": "stream",
          "text": [
            "0: 0.181208, 0.255267, 2.457356, 2.782020\n",
            "1: 0.314854, 0.346002, 1.949112, 1.864619\n",
            "2: 0.376420, 0.389499, 1.753448, 1.691441\n",
            "3: 0.411500, 0.411312, 1.643805, 1.643843\n",
            "4: 0.435049, 0.433349, 1.596156, 1.590451\n",
            "5: 0.460253, 0.451834, 1.508606, 1.521692\n",
            "6: 0.487091, 0.460900, 1.431386, 1.507439\n",
            "7: 0.506198, 0.475484, 1.383362, 1.474326\n",
            "8: 0.520021, 0.479781, 1.347545, 1.454264\n",
            "9: 0.537190, 0.491199, 1.301254, 1.445751\n",
            "10: 0.547034, 0.496636, 1.278289, 1.400014\n",
            "11: 0.566779, 0.508586, 1.220201, 1.390236\n",
            "12: 0.575545, 0.509690, 1.187587, 1.406466\n",
            "13: 0.587239, 0.504695, 1.160286, 1.402573\n",
            "14: 0.603188, 0.521875, 1.134244, 1.405222\n",
            "15: 0.615672, 0.530744, 1.094333, 1.341418\n",
            "16: 0.627187, 0.534935, 1.060572, 1.335700\n",
            "17: 0.634167, 0.535756, 1.039866, 1.335290\n",
            "18: 0.645769, 0.536685, 1.012646, 1.334430\n",
            "19: 0.652959, 0.522752, 0.988430, 1.404160\n",
            "20: 0.663566, 0.543872, 0.964292, 1.336307\n",
            "21: 0.677244, 0.542883, 0.922104, 1.377673\n",
            "22: 0.686525, 0.543732, 0.892565, 1.337854\n",
            "23: 0.696278, 0.539898, 0.875624, 1.378386\n",
            "24: 0.705256, 0.552886, 0.855801, 1.352752\n",
            "25: 0.707083, 0.547778, 0.836235, 1.364997\n",
            "26: 0.718968, 0.555546, 0.806934, 1.378232\n",
            "27: 0.731465, 0.557635, 0.781530, 1.363896\n",
            "28: 0.734835, 0.564166, 0.764776, 1.364773\n",
            "29: 0.742495, 0.559128, 0.747126, 1.376077\n",
            "30: 0.752935, 0.552487, 0.717187, 1.425054\n",
            "31: 0.759919, 0.562982, 0.694176, 1.398687\n",
            "32: 0.761559, 0.567453, 0.687578, 1.387909\n",
            "33: 0.770377, 0.558452, 0.664400, 1.421253\n",
            "34: 0.780142, 0.558002, 0.644271, 1.439206\n",
            "35: 0.784399, 0.560065, 0.629447, 1.438245\n",
            "36: 0.790019, 0.578444, 0.609950, 1.388671\n",
            "37: 0.797785, 0.577146, 0.590580, 1.425006\n",
            "38: 0.800501, 0.569434, 0.584114, 1.487053\n",
            "39: 0.807699, 0.570163, 0.558618, 1.445725\n",
            "40: 0.813295, 0.566924, 0.548370, 1.462842\n",
            "41: 0.817122, 0.570370, 0.542020, 1.455634\n",
            "42: 0.820364, 0.573940, 0.529666, 1.445575\n",
            "43: 0.829175, 0.574998, 0.503272, 1.473413\n",
            "44: 0.830212, 0.586657, 0.499118, 1.438926\n",
            "45: 0.834827, 0.582759, 0.484551, 1.462293\n",
            "46: 0.835035, 0.580692, 0.481317, 1.491994\n",
            "47: 0.838322, 0.578225, 0.477440, 1.516135\n",
            "48: 0.843858, 0.575660, 0.458027, 1.497927\n",
            "49: 0.848405, 0.572949, 0.444737, 1.562803\n"
          ],
          "name": "stdout"
        }
      ]
    },
    {
      "cell_type": "markdown",
      "metadata": {
        "id": "RIzHt-BCDd9x"
      },
      "source": [
        "#Ex 3-3"
      ]
    },
    {
      "cell_type": "markdown",
      "metadata": {
        "id": "GcBmRqCdAAgT"
      },
      "source": [
        "## Res2Net"
      ]
    },
    {
      "cell_type": "code",
      "metadata": {
        "colab": {
          "base_uri": "https://localhost:8080/"
        },
        "id": "stfwau9xDiTW",
        "outputId": "043020dc-67bc-4caf-f6f6-48513f7389ef"
      },
      "source": [
        "!git clone https://github.com/gasvn/Res2Net.git\n",
        "from Res2Net.res2net import res2net50"
      ],
      "execution_count": null,
      "outputs": [
        {
          "output_type": "stream",
          "text": [
            "Cloning into 'Res2Net'...\n",
            "remote: Enumerating objects: 6, done.\u001b[K\n",
            "remote: Counting objects: 100% (6/6), done.\u001b[K\n",
            "remote: Compressing objects: 100% (6/6), done.\u001b[K\n",
            "remote: Total 124 (delta 2), reused 0 (delta 0), pack-reused 118\u001b[K\n",
            "Receiving objects: 100% (124/124), 61.74 KiB | 15.43 MiB/s, done.\n",
            "Resolving deltas: 100% (73/73), done.\n"
          ],
          "name": "stdout"
        }
      ]
    },
    {
      "cell_type": "code",
      "metadata": {
        "colab": {
          "base_uri": "https://localhost:8080/"
        },
        "id": "vpOMMmGzkLJG",
        "outputId": "982bde83-31a4-4089-a229-aee18834b2a6"
      },
      "source": [
        "model = res2net50(pretrained=False)\n",
        "model.fc = nn.Linear(model.fc.in_features, 10)\n",
        "model = model.to(device)\n",
        "\n",
        "criterion = nn.CrossEntropyLoss()\n",
        "optimizer = optim.SGD(model.parameters(),lr=0.01,momentum=0.9,weight_decay=0.00005)\n",
        "\n",
        "train(model, train_loader, test_loader, criterion, optimizer, epoch=50)"
      ],
      "execution_count": null,
      "outputs": [
        {
          "output_type": "stream",
          "text": [
            "0: 0.162018, 0.246405, 2.755706, 3.244640\n",
            "1: 0.304937, 0.330415, 1.967387, 1.910489\n",
            "2: 0.370903, 0.397188, 1.782244, 1.696594\n",
            "3: 0.411257, 0.414039, 1.656783, 1.634610\n",
            "4: 0.441096, 0.435511, 1.554704, 1.586944\n",
            "5: 0.471061, 0.464535, 1.473918, 1.478753\n",
            "6: 0.487470, 0.477244, 1.429020, 1.461534\n",
            "7: 0.502116, 0.474013, 1.383595, 1.468254\n",
            "8: 0.517639, 0.500927, 1.358420, 1.410050\n",
            "9: 0.532501, 0.489232, 1.309177, 1.432111\n",
            "10: 0.549727, 0.496592, 1.263728, 1.445346\n",
            "11: 0.559702, 0.514925, 1.241766, 1.375673\n",
            "12: 0.573936, 0.518742, 1.197854, 1.341124\n",
            "13: 0.587009, 0.529255, 1.166924, 1.337309\n",
            "14: 0.597426, 0.524984, 1.140040, 1.348646\n",
            "15: 0.612487, 0.529048, 1.100454, 1.345031\n",
            "16: 0.613499, 0.530052, 1.090568, 1.339492\n",
            "17: 0.624734, 0.527290, 1.065778, 1.348499\n",
            "18: 0.636730, 0.542498, 1.033571, 1.323721\n",
            "19: 0.645654, 0.541067, 1.004542, 1.343962\n",
            "20: 0.652121, 0.537331, 0.988137, 1.320251\n",
            "21: 0.664855, 0.549755, 0.954057, 1.333108\n",
            "22: 0.674183, 0.550273, 0.933556, 1.324518\n",
            "23: 0.680065, 0.550490, 0.915429, 1.337522\n",
            "24: 0.692386, 0.545707, 0.887088, 1.355648\n",
            "25: 0.699788, 0.553908, 0.860173, 1.344682\n",
            "26: 0.706912, 0.558143, 0.841549, 1.339671\n",
            "27: 0.716177, 0.559136, 0.820592, 1.329989\n",
            "28: 0.723036, 0.562801, 0.798562, 1.331323\n",
            "29: 0.730616, 0.561418, 0.780404, 1.337387\n",
            "30: 0.738453, 0.562803, 0.754614, 1.388320\n",
            "31: 0.740141, 0.565410, 0.748522, 1.334926\n",
            "32: 0.750140, 0.564939, 0.721700, 1.369873\n",
            "33: 0.754785, 0.568895, 0.714054, 1.400882\n",
            "34: 0.764078, 0.565731, 0.683917, 1.410842\n",
            "35: 0.768833, 0.560212, 0.675857, 1.384763\n",
            "36: 0.770071, 0.565414, 0.668024, 1.387778\n",
            "37: 0.780189, 0.571739, 0.641044, 1.386607\n",
            "38: 0.783422, 0.569053, 0.626488, 1.453927\n",
            "39: 0.789808, 0.568355, 0.616233, 1.408943\n",
            "40: 0.796851, 0.574631, 0.600403, 1.372443\n",
            "41: 0.799706, 0.568840, 0.585561, 1.404095\n",
            "42: 0.803612, 0.576598, 0.572164, 1.454326\n",
            "43: 0.807179, 0.576291, 0.563358, 1.433450\n",
            "44: 0.816405, 0.580955, 0.537561, 1.410021\n",
            "45: 0.819641, 0.578982, 0.528270, 1.443189\n",
            "46: 0.825154, 0.584780, 0.518153, 1.438088\n",
            "47: 0.828428, 0.588000, 0.501366, 1.446890\n",
            "48: 0.832299, 0.581278, 0.491063, 1.473668\n",
            "49: 0.833445, 0.578191, 0.489535, 1.480360\n"
          ],
          "name": "stdout"
        }
      ]
    },
    {
      "cell_type": "markdown",
      "metadata": {
        "id": "yC_NT8fTAD1g"
      },
      "source": [
        "## Squeeze-and-Excitation"
      ]
    },
    {
      "cell_type": "code",
      "metadata": {
        "colab": {
          "base_uri": "https://localhost:8080/"
        },
        "id": "6R7U96oiAFCx",
        "outputId": "ab653d9b-7c41-446e-860d-610d194687fb"
      },
      "source": [
        "import torch.hub\n",
        "model = torch.hub.load('moskomule/senet.pytorch', 'se_resnet50', pretrained=False,)\n",
        "model.fc = nn.Linear(model.fc.in_features, 10)\n",
        "model = model.to(device)\n",
        "\n",
        "criterion = nn.CrossEntropyLoss()\n",
        "optimizer = optim.SGD(model.parameters(),lr=0.01,momentum=0.9,weight_decay=0.00005)\n",
        "\n",
        "train(model, train_loader, test_loader, criterion, optimizer, epoch=50)"
      ],
      "execution_count": 4,
      "outputs": [
        {
          "output_type": "stream",
          "text": [
            "Downloading: \"https://github.com/moskomule/senet.pytorch/archive/master.zip\" to /root/.cache/torch/hub/master.zip\n"
          ],
          "name": "stderr"
        },
        {
          "output_type": "stream",
          "text": [
            "\n",
            "0: 0.216372, 0.283317, 2.137071, 2.038299\n",
            "1: 0.355717, 0.391255, 1.768723, 1.681448\n",
            "2: 0.417319, 0.436155, 1.603598, 1.561689\n",
            "3: 0.454265, 0.461926, 1.492467, 1.483735\n",
            "4: 0.483917, 0.479951, 1.413934, 1.444403\n",
            "5: 0.510637, 0.490830, 1.353255, 1.426402\n",
            "6: 0.535843, 0.495402, 1.283929, 1.408292\n",
            "7: 0.555660, 0.509088, 1.235617, 1.365070\n",
            "8: 0.581146, 0.522826, 1.171504, 1.345470\n",
            "9: 0.595596, 0.530465, 1.128875, 1.333403\n",
            "10: 0.613501, 0.526539, 1.080595, 1.352819\n",
            "11: 0.634636, 0.541671, 1.025751, 1.321056\n",
            "12: 0.648134, 0.552714, 0.987825, 1.301567\n",
            "13: 0.664278, 0.544031, 0.951032, 1.325998\n",
            "14: 0.675440, 0.557462, 0.916771, 1.299776\n",
            "15: 0.687784, 0.559166, 0.890604, 1.331160\n",
            "16: 0.703233, 0.560316, 0.844460, 1.310197\n",
            "17: 0.713805, 0.566317, 0.817680, 1.306282\n",
            "18: 0.724940, 0.572393, 0.786639, 1.304094\n",
            "19: 0.738725, 0.563560, 0.750076, 1.348318\n",
            "20: 0.746825, 0.567130, 0.726434, 1.329974\n",
            "21: 0.759074, 0.578657, 0.696285, 1.332272\n",
            "22: 0.768786, 0.579823, 0.672258, 1.333863\n",
            "23: 0.777059, 0.574308, 0.647617, 1.331395\n",
            "24: 0.791283, 0.577374, 0.612766, 1.363278\n",
            "25: 0.794439, 0.583078, 0.598288, 1.393378\n",
            "26: 0.803026, 0.584841, 0.573881, 1.363032\n",
            "27: 0.810490, 0.591051, 0.551904, 1.394161\n",
            "28: 0.819267, 0.579155, 0.532816, 1.438903\n",
            "29: 0.823548, 0.585254, 0.516889, 1.372533\n",
            "30: 0.833457, 0.595709, 0.492639, 1.425347\n",
            "31: 0.837445, 0.591097, 0.479966, 1.430773\n",
            "32: 0.842782, 0.597565, 0.464710, 1.426652\n",
            "33: 0.847389, 0.593192, 0.453030, 1.433751\n",
            "34: 0.853366, 0.591661, 0.434432, 1.450858\n",
            "35: 0.855711, 0.598681, 0.424018, 1.444018\n",
            "36: 0.865554, 0.597877, 0.404828, 1.437932\n",
            "37: 0.866688, 0.599059, 0.399529, 1.457575\n",
            "38: 0.869496, 0.594169, 0.389695, 1.456574\n",
            "39: 0.874989, 0.606473, 0.377513, 1.455307\n",
            "40: 0.876003, 0.604203, 0.370351, 1.466169\n",
            "41: 0.876598, 0.604068, 0.367250, 1.521102\n",
            "42: 0.883043, 0.603948, 0.352019, 1.485223\n",
            "43: 0.881319, 0.608821, 0.351523, 1.493043\n",
            "44: 0.888530, 0.609235, 0.334538, 1.496577\n",
            "45: 0.890106, 0.602003, 0.328918, 1.493048\n",
            "46: 0.891226, 0.604825, 0.326260, 1.503012\n",
            "47: 0.896842, 0.603340, 0.310963, 1.505249\n",
            "48: 0.897381, 0.615533, 0.306034, 1.470241\n",
            "49: 0.898566, 0.608341, 0.298779, 1.539055\n"
          ],
          "name": "stdout"
        }
      ]
    }
  ]
}