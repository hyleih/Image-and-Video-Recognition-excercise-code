{
  "nbformat": 4,
  "nbformat_minor": 0,
  "metadata": {
    "colab": {
      "name": "Ex2.ipynb",
      "provenance": [],
      "collapsed_sections": []
    },
    "kernelspec": {
      "name": "python3",
      "display_name": "Python 3"
    },
    "accelerator": "GPU"
  },
  "cells": [
    {
      "cell_type": "code",
      "metadata": {
        "id": "U1hMY57p5vx4"
      },
      "source": [
        "import numpy as np\n",
        "import matplotlib.pyplot as plt\n",
        "import seaborn as sns\n",
        "from sklearn.metrics import accuracy_score\n",
        "\n",
        "IMAGE_DIM = 28*28*1\n",
        "NUM_CLASS = 10"
      ],
      "execution_count": 1,
      "outputs": []
    },
    {
      "cell_type": "markdown",
      "metadata": {
        "id": "lG2A0Pf_5-bv"
      },
      "source": [
        "# Ex 2-1"
      ]
    },
    {
      "cell_type": "code",
      "metadata": {
        "id": "dmX4TgpK6DPH"
      },
      "source": [
        "import torch\n",
        "import torch.nn as nn\n",
        "import torch.nn.functional as F\n",
        "import torch.optim as optim\n",
        "from torchvision import datasets, transforms\n",
        "\n",
        "device = torch.device(\"cuda\")"
      ],
      "execution_count": 2,
      "outputs": []
    },
    {
      "cell_type": "code",
      "metadata": {
        "id": "4yRzzfUAQhYd"
      },
      "source": [
        "class SimpleNet(nn.Module):\n",
        "    def __init__(self, input_size, hidden_size, output_size):\n",
        "        super(SimpleNet, self).__init__()\n",
        "        self.fc1 = nn.Linear(input_size, hidden_size)\n",
        "        self.fc2 = nn.Linear(hidden_size, output_size)\n",
        "\n",
        "    def forward(self, x):\n",
        "        x = self.fc1(x)\n",
        "        x = F.relu(x)\n",
        "        outputs = self.fc2(x)\n",
        "\n",
        "        return outputs"
      ],
      "execution_count": 3,
      "outputs": []
    },
    {
      "cell_type": "code",
      "metadata": {
        "colab": {
          "base_uri": "https://localhost:8080/"
        },
        "id": "iLi-Sp866tJF",
        "outputId": "ec9cbf6c-8236-4b22-9f60-732f1a42eec8"
      },
      "source": [
        "transform=transforms.Compose([\n",
        "        transforms.ToTensor(),\n",
        "        transforms.Normalize((0.1307,), (0.3081,))\n",
        "        ])\n",
        "dataset1 = datasets.MNIST(\"\", train=True, download=True, transform=transform)\n",
        "dataset2 = datasets.MNIST(\"\", train=False, transform=transform)\n",
        "train_loader = torch.utils.data.DataLoader(dataset1, batch_size=1024)\n",
        "test_loader = torch.utils.data.DataLoader(dataset2, batch_size=1024)\n",
        "\n",
        "model = SimpleNet(IMAGE_DIM, 64, NUM_CLASS).to(device)\n",
        "optimizer = optim.SGD(model.parameters(), lr=0.01)\n",
        "criterion = nn.CrossEntropyLoss()\n",
        "\n",
        "train_loss = []\n",
        "train_acc = []\n",
        "test_loss = []\n",
        "test_acc = []\n",
        "for n in range(30):\n",
        "  model.train()\n",
        "\n",
        "  train_loss_step = []\n",
        "  train_acc_step = []\n",
        "  for i, (x, y) in enumerate(train_loader):\n",
        "    optimizer.zero_grad()\n",
        "    x = x.reshape(x.shape[0], -1)\n",
        "    x = x.to(device)\n",
        "    y = y.to(device)\n",
        "\n",
        "    pred = model(x)\n",
        "    loss = criterion(pred, y)\n",
        "    loss.backward()\n",
        "    optimizer.step()\n",
        "\n",
        "    train_loss_step.append(float(loss))\n",
        "    acc = accuracy_score(y.to('cpu').detach().numpy().copy(), \n",
        "                          pred.argmax(dim=1).to('cpu').detach().numpy().copy())\n",
        "    train_acc_step.append(acc)\n",
        "  train_loss.append(np.mean(train_loss_step))\n",
        "  train_acc.append(np.mean(train_acc_step))\n",
        "\n",
        "  with torch.no_grad():\n",
        "    model.eval()\n",
        "    test_loss_step = []\n",
        "    test_acc_step = []\n",
        "    for i ,(x, y) in enumerate(test_loader):\n",
        "      x = x.reshape(x.shape[0], -1)\n",
        "      x = x.to(device)\n",
        "      y = y.to(device)\n",
        "\n",
        "      pred = model(x)\n",
        "      loss = criterion(pred, y)\n",
        "\n",
        "      test_loss_step.append(float(loss))\n",
        "      acc = accuracy_score(y.to('cpu').detach().numpy().copy(), \n",
        "                         pred.argmax(dim=1).to('cpu').detach().numpy().copy())\n",
        "      test_acc_step.append(acc)\n",
        "  \n",
        "  test_loss.append(np.mean(test_loss_step))\n",
        "  test_acc.append(np.mean(test_acc_step))\n",
        "  print(\"%i: %f, %f, %f, %f\" % (n, train_acc[-1], test_acc[-1], train_loss[-1], test_loss[-1]))\n"
      ],
      "execution_count": 4,
      "outputs": [
        {
          "output_type": "stream",
          "text": [
            "0: 0.500591, 0.730096, 1.896067, 1.439043\n",
            "1: 0.768745, 0.813371, 1.158920, 0.902423\n",
            "2: 0.825954, 0.849468, 0.799085, 0.676955\n",
            "3: 0.851640, 0.865519, 0.637903, 0.565581\n",
            "4: 0.865385, 0.878003, 0.550915, 0.500131\n",
            "5: 0.874539, 0.884275, 0.496734, 0.457124\n",
            "6: 0.880267, 0.890458, 0.459709, 0.426680\n",
            "7: 0.885013, 0.894063, 0.432741, 0.403974\n",
            "8: 0.889096, 0.896407, 0.412160, 0.386344\n",
            "9: 0.892021, 0.899884, 0.395865, 0.372201\n",
            "10: 0.894260, 0.902356, 0.382566, 0.360551\n",
            "11: 0.896715, 0.904602, 0.371438, 0.350739\n",
            "12: 0.898961, 0.906224, 0.361936, 0.342322\n",
            "13: 0.900898, 0.907854, 0.353670, 0.334981\n",
            "14: 0.902465, 0.909154, 0.346366, 0.328497\n",
            "15: 0.903921, 0.910326, 0.339840, 0.322687\n",
            "16: 0.905422, 0.911693, 0.333936, 0.317448\n",
            "17: 0.906730, 0.913285, 0.328540, 0.312663\n",
            "18: 0.907834, 0.914096, 0.323564, 0.308267\n",
            "19: 0.908982, 0.915133, 0.318945, 0.304196\n",
            "20: 0.909892, 0.915711, 0.314627, 0.300409\n",
            "21: 0.911001, 0.916169, 0.310570, 0.296861\n",
            "22: 0.912044, 0.917048, 0.306734, 0.293521\n",
            "23: 0.913181, 0.917957, 0.303093, 0.290354\n",
            "24: 0.914306, 0.918640, 0.299619, 0.287331\n",
            "25: 0.915129, 0.919159, 0.296287, 0.284452\n",
            "26: 0.916050, 0.919744, 0.293089, 0.281707\n",
            "27: 0.916746, 0.920165, 0.290010, 0.279074\n",
            "28: 0.917755, 0.921074, 0.287033, 0.276528\n",
            "29: 0.918649, 0.921660, 0.284154, 0.274069\n"
          ],
          "name": "stdout"
        }
      ]
    },
    {
      "cell_type": "markdown",
      "metadata": {
        "id": "xE-Ks5YnQ47c"
      },
      "source": [
        "# Ex 2-2"
      ]
    },
    {
      "cell_type": "code",
      "metadata": {
        "id": "FU6k2ZTtQ7gl"
      },
      "source": [
        "import keras\n",
        "from keras.datasets import mnist\n",
        "from keras.utils.np_utils import to_categorical\n",
        "from keras.models import Model\n",
        "from keras.layers import Dense, Dropout, Input\n",
        "from keras.optimizers import SGD"
      ],
      "execution_count": 5,
      "outputs": []
    },
    {
      "cell_type": "code",
      "metadata": {
        "id": "x1BfpqXXQ9Rz"
      },
      "source": [
        "(x_train, y_train), (x_test, y_test) = mnist.load_data()\n",
        "x_train = x_train.reshape(x_train.shape[0], -1)\n",
        "y_train = y_train.reshape(y_train.shape[0], -1)\n",
        "x_test = x_test.reshape(x_test.shape[0], -1)\n",
        "y_test = y_test.reshape(y_test.shape[0], -1)\n",
        "x_train = x_train/255\n",
        "x_test = x_test/255\n",
        "x_train = (x_train-0.1307)/0.3081\n",
        "x_test = (x_test-0.1307)/0.3081\n",
        "y_train = to_categorical(y_train, NUM_CLASS)\n",
        "y_test =  to_categorical(y_test, NUM_CLASS)"
      ],
      "execution_count": 6,
      "outputs": []
    },
    {
      "cell_type": "code",
      "metadata": {
        "colab": {
          "base_uri": "https://localhost:8080/"
        },
        "id": "x-ufH0FQ6-SL",
        "outputId": "a38063db-ea7b-4a1e-b032-48d757f2913c"
      },
      "source": [
        "inputs = Input(shape=(IMAGE_DIM))\n",
        "x = Dense(64, activation='relu')(inputs)\n",
        "outputs = Dense(10, activation='softmax')(x)\n",
        "model = Model(inputs=inputs, outputs=outputs)\n",
        "\n",
        "model.compile(optimizer=SGD(learning_rate=0.01),\n",
        "               loss='categorical_crossentropy',\n",
        "               metrics=['accuracy'])\n",
        "\n",
        "hist = model.fit(x_train, y_train,\n",
        "                batch_size=1024,\n",
        "                epochs=30,\n",
        "                verbose=1,\n",
        "                validation_data=(x_test, y_test))"
      ],
      "execution_count": 7,
      "outputs": [
        {
          "output_type": "stream",
          "text": [
            "Epoch 1/30\n",
            "59/59 [==============================] - 0s 7ms/step - loss: 1.3633 - accuracy: 0.5831 - val_loss: 0.8182 - val_accuracy: 0.7763\n",
            "Epoch 2/30\n",
            "59/59 [==============================] - 0s 5ms/step - loss: 0.7096 - accuracy: 0.8016 - val_loss: 0.5746 - val_accuracy: 0.8446\n",
            "Epoch 3/30\n",
            "59/59 [==============================] - 0s 5ms/step - loss: 0.5525 - accuracy: 0.8455 - val_loss: 0.4792 - val_accuracy: 0.8652\n",
            "Epoch 4/30\n",
            "59/59 [==============================] - 0s 5ms/step - loss: 0.4791 - accuracy: 0.8647 - val_loss: 0.4277 - val_accuracy: 0.8770\n",
            "Epoch 5/30\n",
            "59/59 [==============================] - 0s 5ms/step - loss: 0.4353 - accuracy: 0.8758 - val_loss: 0.3948 - val_accuracy: 0.8875\n",
            "Epoch 6/30\n",
            "59/59 [==============================] - 0s 5ms/step - loss: 0.4054 - accuracy: 0.8837 - val_loss: 0.3717 - val_accuracy: 0.8932\n",
            "Epoch 7/30\n",
            "59/59 [==============================] - 0s 5ms/step - loss: 0.3833 - accuracy: 0.8899 - val_loss: 0.3544 - val_accuracy: 0.8976\n",
            "Epoch 8/30\n",
            "59/59 [==============================] - 0s 5ms/step - loss: 0.3660 - accuracy: 0.8953 - val_loss: 0.3408 - val_accuracy: 0.9007\n",
            "Epoch 9/30\n",
            "59/59 [==============================] - 0s 5ms/step - loss: 0.3521 - accuracy: 0.8992 - val_loss: 0.3287 - val_accuracy: 0.9044\n",
            "Epoch 10/30\n",
            "59/59 [==============================] - 0s 5ms/step - loss: 0.3403 - accuracy: 0.9026 - val_loss: 0.3195 - val_accuracy: 0.9062\n",
            "Epoch 11/30\n",
            "59/59 [==============================] - 0s 5ms/step - loss: 0.3303 - accuracy: 0.9054 - val_loss: 0.3108 - val_accuracy: 0.9085\n",
            "Epoch 12/30\n",
            "59/59 [==============================] - 0s 5ms/step - loss: 0.3215 - accuracy: 0.9075 - val_loss: 0.3033 - val_accuracy: 0.9095\n",
            "Epoch 13/30\n",
            "59/59 [==============================] - 0s 5ms/step - loss: 0.3136 - accuracy: 0.9100 - val_loss: 0.2967 - val_accuracy: 0.9131\n",
            "Epoch 14/30\n",
            "59/59 [==============================] - 0s 5ms/step - loss: 0.3066 - accuracy: 0.9117 - val_loss: 0.2910 - val_accuracy: 0.9148\n",
            "Epoch 15/30\n",
            "59/59 [==============================] - 0s 5ms/step - loss: 0.3002 - accuracy: 0.9135 - val_loss: 0.2854 - val_accuracy: 0.9163\n",
            "Epoch 16/30\n",
            "59/59 [==============================] - 0s 4ms/step - loss: 0.2943 - accuracy: 0.9150 - val_loss: 0.2805 - val_accuracy: 0.9176\n",
            "Epoch 17/30\n",
            "59/59 [==============================] - 0s 4ms/step - loss: 0.2889 - accuracy: 0.9168 - val_loss: 0.2760 - val_accuracy: 0.9196\n",
            "Epoch 18/30\n",
            "59/59 [==============================] - 0s 4ms/step - loss: 0.2839 - accuracy: 0.9183 - val_loss: 0.2718 - val_accuracy: 0.9202\n",
            "Epoch 19/30\n",
            "59/59 [==============================] - 0s 5ms/step - loss: 0.2792 - accuracy: 0.9196 - val_loss: 0.2677 - val_accuracy: 0.9220\n",
            "Epoch 20/30\n",
            "59/59 [==============================] - 0s 4ms/step - loss: 0.2748 - accuracy: 0.9212 - val_loss: 0.2639 - val_accuracy: 0.9237\n",
            "Epoch 21/30\n",
            "59/59 [==============================] - 0s 4ms/step - loss: 0.2707 - accuracy: 0.9223 - val_loss: 0.2606 - val_accuracy: 0.9243\n",
            "Epoch 22/30\n",
            "59/59 [==============================] - 0s 5ms/step - loss: 0.2668 - accuracy: 0.9232 - val_loss: 0.2571 - val_accuracy: 0.9256\n",
            "Epoch 23/30\n",
            "59/59 [==============================] - 0s 5ms/step - loss: 0.2630 - accuracy: 0.9243 - val_loss: 0.2541 - val_accuracy: 0.9266\n",
            "Epoch 24/30\n",
            "59/59 [==============================] - 0s 4ms/step - loss: 0.2595 - accuracy: 0.9254 - val_loss: 0.2508 - val_accuracy: 0.9276\n",
            "Epoch 25/30\n",
            "59/59 [==============================] - 0s 5ms/step - loss: 0.2561 - accuracy: 0.9263 - val_loss: 0.2479 - val_accuracy: 0.9275\n",
            "Epoch 26/30\n",
            "59/59 [==============================] - 0s 5ms/step - loss: 0.2529 - accuracy: 0.9272 - val_loss: 0.2453 - val_accuracy: 0.9278\n",
            "Epoch 27/30\n",
            "59/59 [==============================] - 0s 5ms/step - loss: 0.2498 - accuracy: 0.9283 - val_loss: 0.2425 - val_accuracy: 0.9290\n",
            "Epoch 28/30\n",
            "59/59 [==============================] - 0s 5ms/step - loss: 0.2468 - accuracy: 0.9290 - val_loss: 0.2403 - val_accuracy: 0.9299\n",
            "Epoch 29/30\n",
            "59/59 [==============================] - 0s 4ms/step - loss: 0.2440 - accuracy: 0.9300 - val_loss: 0.2379 - val_accuracy: 0.9312\n",
            "Epoch 30/30\n",
            "59/59 [==============================] - 0s 5ms/step - loss: 0.2412 - accuracy: 0.9308 - val_loss: 0.2355 - val_accuracy: 0.9316\n"
          ],
          "name": "stdout"
        }
      ]
    },
    {
      "cell_type": "code",
      "metadata": {
        "colab": {
          "base_uri": "https://localhost:8080/"
        },
        "id": "cvqITaH7aHg6",
        "outputId": "ce11ad40-6013-4d59-802e-e0e25077041b"
      },
      "source": [
        "model.evaluate(x_test, y_test, verbose=0)"
      ],
      "execution_count": 8,
      "outputs": [
        {
          "output_type": "execute_result",
          "data": {
            "text/plain": [
              "[0.23550193011760712, 0.9315999746322632]"
            ]
          },
          "metadata": {
            "tags": []
          },
          "execution_count": 8
        }
      ]
    }
  ]
}